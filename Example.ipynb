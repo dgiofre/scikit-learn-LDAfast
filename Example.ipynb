{
 "cells": [
  {
   "cell_type": "code",
   "execution_count": 1,
   "metadata": {},
   "outputs": [],
   "source": [
    "from fastLDA.decomposition import LatentDirichletAllocation_fast\n",
    "from sklearn.decomposition import LatentDirichletAllocation\n",
    "from sklearn.datasets import make_multilabel_classification"
   ]
  },
  {
   "cell_type": "code",
   "execution_count": 2,
   "metadata": {},
   "outputs": [],
   "source": [
    "import numpy as np"
   ]
  },
  {
   "cell_type": "code",
   "execution_count": 3,
   "metadata": {},
   "outputs": [
    {
     "name": "stdout",
     "output_type": "stream",
     "text": [
      "CPU times: user 158 ms, sys: 915 µs, total: 159 ms\n",
      "Wall time: 158 ms\n"
     ]
    },
    {
     "data": {
      "text/plain": [
       "array([[0.00060606, 0.00060606, 0.00060606, ..., 0.00060606, 0.00060606,\n",
       "        0.00060606],\n",
       "       [0.00092593, 0.00092593, 0.00092593, ..., 0.00092593, 0.00092593,\n",
       "        0.00092593],\n",
       "       [0.0005848 , 0.0005848 , 0.0005848 , ..., 0.0005848 , 0.0005848 ,\n",
       "        0.0005848 ],\n",
       "       ...,\n",
       "       [0.00072464, 0.00072464, 0.00072464, ..., 0.00072464, 0.00072464,\n",
       "        0.00072464],\n",
       "       [0.0005848 , 0.0005848 , 0.0005848 , ..., 0.0005848 , 0.0005848 ,\n",
       "        0.0005848 ],\n",
       "       [0.0005848 , 0.0005848 , 0.0005848 , ..., 0.0005848 , 0.0005848 ,\n",
       "        0.0005848 ]])"
      ]
     },
     "execution_count": 3,
     "metadata": {},
     "output_type": "execute_result"
    }
   ],
   "source": [
    "%%time\n",
    "X, _ = make_multilabel_classification(random_state=0)\n",
    "#numpy deals float and double variables in a different way respect python and C/C++\n",
    "X=X.astype(np.float32)\n",
    "lda = LatentDirichletAllocation_fast(n_components=30,random_state=0)\n",
    "lda.fit(X)"
   ]
  },
  {
   "cell_type": "code",
   "execution_count": 4,
   "metadata": {},
   "outputs": [
    {
     "name": "stdout",
     "output_type": "stream",
     "text": [
      "CPU times: user 477 ms, sys: 863 µs, total: 477 ms\n",
      "Wall time: 476 ms\n"
     ]
    },
    {
     "data": {
      "text/plain": [
       "array([[0.00060606, 0.00060606, 0.00060606, ..., 0.00060606, 0.00060606,\n",
       "        0.00060606],\n",
       "       [0.00092593, 0.00092593, 0.00092593, ..., 0.00092593, 0.00092593,\n",
       "        0.00092593],\n",
       "       [0.0005848 , 0.0005848 , 0.0005848 , ..., 0.0005848 , 0.0005848 ,\n",
       "        0.0005848 ],\n",
       "       ...,\n",
       "       [0.00072464, 0.00072464, 0.00072464, ..., 0.00072464, 0.00072464,\n",
       "        0.00072464],\n",
       "       [0.0005848 , 0.0005848 , 0.0005848 , ..., 0.0005848 , 0.0005848 ,\n",
       "        0.0005848 ],\n",
       "       [0.0005848 , 0.0005848 , 0.0005848 , ..., 0.0005848 , 0.0005848 ,\n",
       "        0.0005848 ]])"
      ]
     },
     "execution_count": 4,
     "metadata": {},
     "output_type": "execute_result"
    }
   ],
   "source": [
    "%%time\n",
    "X, _ = make_multilabel_classification(random_state=0)\n",
    "lda = LatentDirichletAllocation(n_components=30, random_state=0)\n",
    "lda.fit_transform(X)"
   ]
  },
  {
   "cell_type": "code",
   "execution_count": null,
   "metadata": {},
   "outputs": [],
   "source": []
  }
 ],
 "metadata": {
  "kernelspec": {
   "display_name": "Python 3",
   "language": "python",
   "name": "python3"
  },
  "language_info": {
   "codemirror_mode": {
    "name": "ipython",
    "version": 3
   },
   "file_extension": ".py",
   "mimetype": "text/x-python",
   "name": "python",
   "nbconvert_exporter": "python",
   "pygments_lexer": "ipython3",
   "version": "3.7.9"
  },
  "latex_envs": {
   "LaTeX_envs_menu_present": true,
   "autoclose": true,
   "autocomplete": true,
   "bibliofile": "biblio.bib",
   "cite_by": "apalike",
   "current_citInitial": 1,
   "eqLabelWithNumbers": true,
   "eqNumInitial": 1,
   "hotkeys": {
    "equation": "Ctrl-E",
    "itemize": "Ctrl-I"
   },
   "labels_anchors": false,
   "latex_user_defs": false,
   "report_style_numbering": false,
   "user_envs_cfg": false
  }
 },
 "nbformat": 4,
 "nbformat_minor": 4
}

{
 "cells": [
  {
   "cell_type": "code",
   "execution_count": 11,
   "metadata": {},
   "outputs": [],
   "source": [
    "from LDAfast.decomposition import LatentDirichletAllocation_fast\n",
    "from sklearn.decomposition import LatentDirichletAllocation\n",
    "from sklearn.datasets import make_multilabel_classification"
   ]
  },
  {
   "cell_type": "code",
   "execution_count": 27,
   "metadata": {},
   "outputs": [],
   "source": [
    "import numpy as np"
   ]
  },
  {
   "cell_type": "code",
   "execution_count": 41,
   "metadata": {},
   "outputs": [
    {
     "name": "stdout",
     "output_type": "stream",
     "text": [
      "CPU times: user 161 ms, sys: 0 ns, total: 161 ms\n",
      "Wall time: 160 ms\n"
     ]
    },
    {
     "data": {
      "text/plain": [
       "array([[0.00060606, 0.00060606, 0.00060606, ..., 0.00060606, 0.00060606,\n",
       "        0.00060606],\n",
       "       [0.00092593, 0.00092593, 0.00092593, ..., 0.00092593, 0.00092593,\n",
       "        0.00092593],\n",
       "       [0.0005848 , 0.0005848 , 0.0005848 , ..., 0.0005848 , 0.0005848 ,\n",
       "        0.0005848 ],\n",
       "       ...,\n",
       "       [0.00072464, 0.00072464, 0.00072464, ..., 0.00072464, 0.00072464,\n",
       "        0.00072464],\n",
       "       [0.0005848 , 0.0005848 , 0.0005848 , ..., 0.0005848 , 0.0005848 ,\n",
       "        0.0005848 ],\n",
       "       [0.0005848 , 0.0005848 , 0.0005848 , ..., 0.0005848 , 0.0005848 ,\n",
       "        0.0005848 ]])"
      ]
     },
     "execution_count": 41,
     "metadata": {},
     "output_type": "execute_result"
    }
   ],
   "source": [
    "%%time\n",
    "X, _ = make_multilabel_classification(random_state=0)\n",
    "X=X.astype(np.float32)\n",
    "lda = LatentDirichletAllocation_fast(n_components=30,random_state=0)\n",
    "lda.fit(X)"
   ]
  },
  {
   "cell_type": "code",
   "execution_count": 42,
   "metadata": {},
   "outputs": [
    {
     "name": "stdout",
     "output_type": "stream",
     "text": [
      "CPU times: user 497 ms, sys: 0 ns, total: 497 ms\n",
      "Wall time: 487 ms\n"
     ]
    },
    {
     "data": {
      "text/plain": [
       "array([[0.00060606, 0.00060606, 0.00060606, ..., 0.00060606, 0.00060606,\n",
       "        0.00060606],\n",
       "       [0.00092593, 0.00092593, 0.00092593, ..., 0.00092593, 0.00092593,\n",
       "        0.00092593],\n",
       "       [0.0005848 , 0.0005848 , 0.0005848 , ..., 0.0005848 , 0.0005848 ,\n",
       "        0.0005848 ],\n",
       "       ...,\n",
       "       [0.00072464, 0.00072464, 0.00072464, ..., 0.00072464, 0.00072464,\n",
       "        0.00072464],\n",
       "       [0.0005848 , 0.0005848 , 0.0005848 , ..., 0.0005848 , 0.0005848 ,\n",
       "        0.0005848 ],\n",
       "       [0.0005848 , 0.0005848 , 0.0005848 , ..., 0.0005848 , 0.0005848 ,\n",
       "        0.0005848 ]])"
      ]
     },
     "execution_count": 42,
     "metadata": {},
     "output_type": "execute_result"
    }
   ],
   "source": [
    "%%time\n",
    "X, _ = make_multilabel_classification(random_state=0)\n",
    "lda = LatentDirichletAllocation(n_components=30, random_state=0)\n",
    "lda.fit_transform(X)"
   ]
  },
  {
   "cell_type": "code",
   "execution_count": null,
   "metadata": {},
   "outputs": [],
   "source": []
  }
 ],
 "metadata": {
  "kernelspec": {
   "display_name": "Python 3",
   "language": "python",
   "name": "python3"
  },
  "language_info": {
   "codemirror_mode": {
    "name": "ipython",
    "version": 3
   },
   "file_extension": ".py",
   "mimetype": "text/x-python",
   "name": "python",
   "nbconvert_exporter": "python",
   "pygments_lexer": "ipython3",
   "version": "3.8.5"
  },
  "latex_envs": {
   "LaTeX_envs_menu_present": true,
   "autoclose": true,
   "autocomplete": true,
   "bibliofile": "biblio.bib",
   "cite_by": "apalike",
   "current_citInitial": 1,
   "eqLabelWithNumbers": true,
   "eqNumInitial": 1,
   "hotkeys": {
    "equation": "Ctrl-E",
    "itemize": "Ctrl-I"
   },
   "labels_anchors": false,
   "latex_user_defs": false,
   "report_style_numbering": false,
   "user_envs_cfg": false
  }
 },
 "nbformat": 4,
 "nbformat_minor": 4
}
